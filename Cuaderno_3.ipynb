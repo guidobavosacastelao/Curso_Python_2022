{
  "nbformat": 4,
  "nbformat_minor": 0,
  "metadata": {
    "colab": {
      "provenance": [],
      "collapsed_sections": [
        "lofsU_hR6wPH",
        "Isi17yph69I6",
        "qgKyoBpd8Hf8"
      ],
      "authorship_tag": "ABX9TyOXjnghnke7yH5iH8szB0Ul",
      "include_colab_link": true
    },
    "kernelspec": {
      "name": "python3",
      "display_name": "Python 3"
    },
    "language_info": {
      "name": "python"
    }
  },
  "cells": [
    {
      "cell_type": "markdown",
      "metadata": {
        "id": "view-in-github",
        "colab_type": "text"
      },
      "source": [
        "<a href=\"https://colab.research.google.com/github/guidobavosacastelao/Curso_Python_2022/blob/main/Cuaderno_3.ipynb\" target=\"_parent\"><img src=\"https://colab.research.google.com/assets/colab-badge.svg\" alt=\"Open In Colab\"/></a>"
      ]
    },
    {
      "cell_type": "markdown",
      "source": [
        "## Videos:\n",
        "\n",
        "https://www.youtube.com/watch?v=85xsOwpEps4&ab_channel=cctmexico -> Ciclo For\n",
        "\n",
        "https://www.youtube.com/watch?v=TCmU2-3oPAA&ab_channel=cctmexico -> Ciclo While\n",
        "\n",
        "https://www.youtube.com/watch?v=iniDheGLFTA&ab_channel=cctmexico -> Funciones\n"
      ],
      "metadata": {
        "id": "eO3mw0SG60Rn"
      }
    },
    {
      "cell_type": "markdown",
      "source": [
        "# Estructura For\n"
      ],
      "metadata": {
        "id": "lofsU_hR6wPH"
      }
    },
    {
      "cell_type": "markdown",
      "source": [
        "```python\n",
        "for item in object:\n",
        "    determinar acciones a realizar\n",
        "```"
      ],
      "metadata": {
        "id": "_uPW0_uF5bxn"
      }
    },
    {
      "cell_type": "code",
      "source": [
        "lista1 = [1,2,3,4,5,6,7,8,9,10]\n",
        "print(lista1)"
      ],
      "metadata": {
        "colab": {
          "base_uri": "https://localhost:8080/"
        },
        "id": "Th_76Afi5j4g",
        "outputId": "184aebc0-1ee4-460c-e0dd-1ca118292502"
      },
      "execution_count": null,
      "outputs": [
        {
          "output_type": "stream",
          "name": "stdout",
          "text": [
            "[1, 2, 3, 4, 5, 6, 7, 8, 9, 10]\n"
          ]
        }
      ]
    },
    {
      "cell_type": "code",
      "source": [
        "lista2 = list(range(1,11))\n",
        "print(lista2)\n",
        "print(len(lista2))"
      ],
      "metadata": {
        "colab": {
          "base_uri": "https://localhost:8080/"
        },
        "id": "o4aOs73E5rN4",
        "outputId": "a57f25f8-43db-40ad-cf99-32cd2cbbc36e"
      },
      "execution_count": null,
      "outputs": [
        {
          "output_type": "stream",
          "name": "stdout",
          "text": [
            "[1, 2, 3, 4, 5, 6, 7, 8, 9, 10]\n",
            "10\n"
          ]
        }
      ]
    },
    {
      "cell_type": "code",
      "source": [
        "for i in lista1:  # Recorremos la lista para obtener los elementos contenida en ella\n",
        "  print(i)"
      ],
      "metadata": {
        "colab": {
          "base_uri": "https://localhost:8080/"
        },
        "id": "rKxRktIA5s_l",
        "outputId": "b3c500ac-9504-4713-c6f9-ace2ff335a5f"
      },
      "execution_count": null,
      "outputs": [
        {
          "output_type": "stream",
          "name": "stdout",
          "text": [
            "1\n",
            "2\n",
            "3\n",
            "4\n",
            "5\n",
            "6\n",
            "7\n",
            "8\n",
            "9\n",
            "10\n"
          ]
        }
      ]
    },
    {
      "cell_type": "code",
      "source": [
        "for i in lista1:     # A cada elemento de la lista lo multiplicamos por 2\n",
        "  print(i*2)"
      ],
      "metadata": {
        "colab": {
          "base_uri": "https://localhost:8080/"
        },
        "id": "C36CSGrY5vW5",
        "outputId": "d854af3a-f9b6-496f-ab23-a2204851e72b"
      },
      "execution_count": null,
      "outputs": [
        {
          "output_type": "stream",
          "name": "stdout",
          "text": [
            "2\n",
            "4\n",
            "6\n",
            "8\n",
            "10\n",
            "12\n",
            "14\n",
            "16\n",
            "18\n",
            "20\n"
          ]
        }
      ]
    },
    {
      "cell_type": "code",
      "source": [
        "# Si quisieramos guardar el resultado en una nueva lista\n",
        "\n",
        "lista_new = []       # Creamos una lista vacía que se completará con el resultado anterior\n",
        "\n",
        "for i in lista1:\n",
        "  lista_new.append(i*2)\n",
        "print(lista_new)"
      ],
      "metadata": {
        "colab": {
          "base_uri": "https://localhost:8080/"
        },
        "id": "mgHfhQWV5ym8",
        "outputId": "e2a365bc-d57e-4c84-ea78-e5028aec8dfc"
      },
      "execution_count": null,
      "outputs": [
        {
          "output_type": "stream",
          "name": "stdout",
          "text": [
            "[2, 4, 6, 8, 10, 12, 14, 16, 18, 20]\n"
          ]
        }
      ]
    },
    {
      "cell_type": "code",
      "source": [
        "# Podemos incorporar un condicional (IF) para definir una acción a realizar\n",
        "\n",
        "for i in lista1:    # Obtenemos los elementos que cumplen con una condición\n",
        "    if i % 2 == 0:\n",
        "        print(i)"
      ],
      "metadata": {
        "colab": {
          "base_uri": "https://localhost:8080/"
        },
        "id": "ZoOQud0b6Adr",
        "outputId": "17703764-6194-43f5-8cbf-bce65ed2756d"
      },
      "execution_count": null,
      "outputs": [
        {
          "output_type": "stream",
          "name": "stdout",
          "text": [
            "2\n",
            "4\n",
            "6\n",
            "8\n",
            "10\n"
          ]
        }
      ]
    },
    {
      "cell_type": "code",
      "source": [
        "10%3"
      ],
      "metadata": {
        "colab": {
          "base_uri": "https://localhost:8080/"
        },
        "id": "9DsMOTOk6AyH",
        "outputId": "a409cb88-0b86-4cf8-9244-181a313b7e90"
      },
      "execution_count": null,
      "outputs": [
        {
          "output_type": "execute_result",
          "data": {
            "text/plain": [
              "1"
            ]
          },
          "metadata": {},
          "execution_count": 7
        }
      ]
    },
    {
      "cell_type": "code",
      "source": [
        "# Podemos escribir lo anterior de una manera más completa\n",
        "\n",
        "for i in lista1:\n",
        "    if i % 2 == 0:\n",
        "        print(i)\n",
        "    else:\n",
        "        pass        # Operador que indica seguir sin hacer ninguna modificación"
      ],
      "metadata": {
        "colab": {
          "base_uri": "https://localhost:8080/"
        },
        "id": "xEYNqz_S6C72",
        "outputId": "7d7a8a23-8d08-4389-84e1-b11afa321c5c"
      },
      "execution_count": null,
      "outputs": [
        {
          "output_type": "stream",
          "name": "stdout",
          "text": [
            "2\n",
            "4\n",
            "6\n",
            "8\n",
            "10\n"
          ]
        }
      ]
    },
    {
      "cell_type": "code",
      "source": [
        "# Podemos obtener un único resultado: La suma de todos los elementos de la lista\n",
        "\n",
        "list_sum = 0                # Iniciamos una lista en cero\n",
        "\n",
        "for i in lista1:\n",
        "    list_sum = list_sum + i # Llenamos la lista sumando el elemento i de la lista1 en cada iteración\n",
        "\n",
        "print(list_sum)             # Si indentamos dos veces nos imprimirá cada iteración."
      ],
      "metadata": {
        "colab": {
          "base_uri": "https://localhost:8080/"
        },
        "id": "XTupSNcB6ExY",
        "outputId": "f7f09bb0-ab8f-483b-9917-808165381742"
      },
      "execution_count": null,
      "outputs": [
        {
          "output_type": "stream",
          "name": "stdout",
          "text": [
            "55\n"
          ]
        }
      ]
    },
    {
      "cell_type": "code",
      "source": [
        "lista = [\"a\", \"b\", \"c\"]    # Podemos recorrer la lista de la siguiente manera\n",
        "for indice in range(len(lista)):\n",
        "    print(f\"El indice {indice} tienen un valor {lista[indice]}\")"
      ],
      "metadata": {
        "colab": {
          "base_uri": "https://localhost:8080/"
        },
        "id": "KHvkV4um6HuA",
        "outputId": "1f826c72-5dcb-4a67-d8a1-cbfda8abf553"
      },
      "execution_count": null,
      "outputs": [
        {
          "output_type": "stream",
          "name": "stdout",
          "text": [
            "El indice 0 tienen un valor a\n",
            "El indice 1 tienen un valor b\n",
            "El indice 2 tienen un valor c\n"
          ]
        }
      ]
    },
    {
      "cell_type": "markdown",
      "source": [
        "Ejemplo Financiero:\n"
      ],
      "metadata": {
        "id": "U8zAJZ0p6TGv"
      }
    },
    {
      "cell_type": "code",
      "source": [
        "tasa=0.1\n",
        "cash_flow=[-200,50,50,50,50,50]"
      ],
      "metadata": {
        "id": "Zp-V10C56eqv"
      },
      "execution_count": null,
      "outputs": []
    },
    {
      "cell_type": "code",
      "source": [
        "VAN_i=0\n",
        "\n",
        "for i in range(len(cash_flow)):\n",
        "    VAN_i+=cash_flow[i]/((1+tasa)**i)\n",
        "print(\"El Valor Actual Neto es\",VAN_i)"
      ],
      "metadata": {
        "colab": {
          "base_uri": "https://localhost:8080/"
        },
        "id": "4HD_Q9HM6P3L",
        "outputId": "2ba06c21-01ee-4827-95c9-cdcdaf40770d"
      },
      "execution_count": null,
      "outputs": [
        {
          "output_type": "stream",
          "name": "stdout",
          "text": [
            "El Valor Actual Neto es -10.460661529577635\n"
          ]
        }
      ]
    },
    {
      "cell_type": "markdown",
      "source": [
        "Bucle anidado: independiente"
      ],
      "metadata": {
        "id": "ab_DjWlF6h3H"
      }
    },
    {
      "cell_type": "code",
      "source": [
        "for i in [0, 1, 2]:\n",
        "    for j in [0, 1]:\n",
        "        print(f\"i vale {i} y j vale {j}\")"
      ],
      "metadata": {
        "colab": {
          "base_uri": "https://localhost:8080/"
        },
        "id": "zfpiIIlN6W07",
        "outputId": "8d93bd2c-1df6-4de1-91fe-856739c2c032"
      },
      "execution_count": null,
      "outputs": [
        {
          "output_type": "stream",
          "name": "stdout",
          "text": [
            "i vale 0 y j vale 0\n",
            "i vale 0 y j vale 1\n",
            "i vale 1 y j vale 0\n",
            "i vale 1 y j vale 1\n",
            "i vale 2 y j vale 0\n",
            "i vale 2 y j vale 1\n"
          ]
        }
      ]
    },
    {
      "cell_type": "markdown",
      "source": [
        "Bucle anidado: dependiente\n",
        "\n"
      ],
      "metadata": {
        "id": "yiQ6nFQ_6nYg"
      }
    },
    {
      "cell_type": "code",
      "source": [
        "for i in [1, 2, 3]:\n",
        "    for j in range(i):\n",
        "        print(f\"i vale {i} y j vale {j}\")"
      ],
      "metadata": {
        "colab": {
          "base_uri": "https://localhost:8080/"
        },
        "id": "YEslQ0kg6mI0",
        "outputId": "aa114e08-30ae-4616-f7a1-a7750e2e368e"
      },
      "execution_count": null,
      "outputs": [
        {
          "output_type": "stream",
          "name": "stdout",
          "text": [
            "i vale 1 y j vale 0\n",
            "i vale 2 y j vale 0\n",
            "i vale 2 y j vale 1\n",
            "i vale 3 y j vale 0\n",
            "i vale 3 y j vale 1\n",
            "i vale 3 y j vale 2\n"
          ]
        }
      ]
    },
    {
      "cell_type": "markdown",
      "source": [
        "# Estructura While"
      ],
      "metadata": {
        "id": "Isi17yph69I6"
      }
    },
    {
      "cell_type": "markdown",
      "source": [
        "Siempre debe haber un contador, WHILE es una estructura de control que itera o repite la ejecucion de una serie de instruccioes tantas veces como sea necesario hasta que deje de cumplirse la condicion"
      ],
      "metadata": {
        "id": "LXPrxAOK7DHJ"
      }
    },
    {
      "cell_type": "markdown",
      "source": [
        "```python\n",
        "while condicion:\n",
        "    ejecutar código\n",
        "else:\n",
        "    finalizar código\n",
        "```"
      ],
      "metadata": {
        "id": "ARePEXgR7JGd"
      }
    },
    {
      "cell_type": "code",
      "source": [
        "numero = 0\n",
        "while numero < 10:                   # mientras se cumpla esta condición realizará la operación indicada a continuación\n",
        "       print('El número es',numero)  # Primero imprime\n",
        "       numero = numero + 1           # Sumamos el valor 1 en cada iteración. De esta manera, en alguna iteración dejará de cumplirse la condición"
      ],
      "metadata": {
        "colab": {
          "base_uri": "https://localhost:8080/"
        },
        "id": "SaU6gPPw6r17",
        "outputId": "83464bc4-6f7a-42c0-86bb-74c1e67853d5"
      },
      "execution_count": null,
      "outputs": [
        {
          "output_type": "stream",
          "name": "stdout",
          "text": [
            "El número es 0\n",
            "El número es 1\n",
            "El número es 2\n",
            "El número es 3\n",
            "El número es 4\n",
            "El número es 5\n",
            "El número es 6\n",
            "El número es 7\n",
            "El número es 8\n",
            "El número es 9\n"
          ]
        }
      ]
    },
    {
      "cell_type": "code",
      "source": [
        "numero = 0\n",
        "while numero < 10:\n",
        "      numero = numero + 1           # Sumo de a uno\n",
        "      print('El número es',numero)  # Luego imprime"
      ],
      "metadata": {
        "colab": {
          "base_uri": "https://localhost:8080/"
        },
        "id": "GIfyySkr7Hvt",
        "outputId": "6d88f01c-af67-4b54-ea4f-16d884d88d6d"
      },
      "execution_count": null,
      "outputs": [
        {
          "output_type": "stream",
          "name": "stdout",
          "text": [
            "El número es 1\n",
            "El número es 2\n",
            "El número es 3\n",
            "El número es 4\n",
            "El número es 5\n",
            "El número es 6\n",
            "El número es 7\n",
            "El número es 8\n",
            "El número es 9\n",
            "El número es 10\n"
          ]
        }
      ]
    },
    {
      "cell_type": "markdown",
      "source": [
        "Y de 2 en 2? Y que sea decreciente?"
      ],
      "metadata": {
        "id": "Qduy0m2m7R_T"
      }
    },
    {
      "cell_type": "code",
      "source": [
        "numero = 0\n",
        "while numero < 10:                 # Termino teniendo un bucle infinito\n",
        "       print('El número es',numero)"
      ],
      "metadata": {
        "id": "rTCWmoVG7QFX"
      },
      "execution_count": null,
      "outputs": []
    },
    {
      "cell_type": "code",
      "source": [
        "numero = 0                   # Podría saltearme el número 4\n",
        "while numero < 10:\n",
        "       if numero != 4:\n",
        "          print('El número es',numero)\n",
        "       numero = numero + 1\n"
      ],
      "metadata": {
        "colab": {
          "base_uri": "https://localhost:8080/"
        },
        "id": "8Fxc2nTO7c6P",
        "outputId": "0b53465a-187b-482a-ad2d-836585e818cf"
      },
      "execution_count": null,
      "outputs": [
        {
          "output_type": "stream",
          "name": "stdout",
          "text": [
            "El número es 0\n",
            "El número es 1\n",
            "El número es 2\n",
            "El número es 3\n",
            "El número es 5\n",
            "El número es 6\n",
            "El número es 7\n",
            "El número es 8\n",
            "El número es 9\n"
          ]
        }
      ]
    },
    {
      "cell_type": "code",
      "source": [
        "numero = 0\n",
        "while numero < 10:\n",
        "       if numero != 4:\n",
        "          print('El número es',numero)\n",
        "       else:     \n",
        "          print('Este número es la mitad de ocho:',numero)\n",
        "       numero = numero + 1"
      ],
      "metadata": {
        "colab": {
          "base_uri": "https://localhost:8080/"
        },
        "id": "DgCVdnf-7XIh",
        "outputId": "9e380bdf-40e8-4333-d2be-8dac2f3ca145"
      },
      "execution_count": null,
      "outputs": [
        {
          "output_type": "stream",
          "name": "stdout",
          "text": [
            "El número es 0\n",
            "El número es 1\n",
            "El número es 2\n",
            "El número es 3\n",
            "Este número es la mitad de ocho: 4\n",
            "El número es 5\n",
            "El número es 6\n",
            "El número es 7\n",
            "El número es 8\n",
            "El número es 9\n"
          ]
        }
      ]
    },
    {
      "cell_type": "code",
      "source": [
        "numero= 0\n",
        "\n",
        "while numero < 10:\n",
        "    print(numero)\n",
        "    numero+=1\n",
        "    if numero==4:\n",
        "        print('Ahora se cumple la condición:')  # cuando se cumple la condición que nos avise\n",
        "    else:\n",
        "        continue # y luego que continúe"
      ],
      "metadata": {
        "colab": {
          "base_uri": "https://localhost:8080/"
        },
        "id": "CKTHwbqz7i0E",
        "outputId": "49598172-c0b1-40d8-9730-b8552cd06f40"
      },
      "execution_count": null,
      "outputs": [
        {
          "output_type": "stream",
          "name": "stdout",
          "text": [
            "0\n",
            "1\n",
            "2\n",
            "3\n",
            "Ahora se cumple la condición:\n",
            "4\n",
            "5\n",
            "6\n",
            "7\n",
            "8\n",
            "9\n"
          ]
        }
      ]
    },
    {
      "cell_type": "code",
      "source": [
        "numero = 0\n",
        "while numero < 10:\n",
        "    numero += 1\n",
        "    if numero == 4:\n",
        "        break\n",
        "    print(numero)\n",
        "print('Terminó el While')"
      ],
      "metadata": {
        "colab": {
          "base_uri": "https://localhost:8080/"
        },
        "id": "4USwKDa27lPs",
        "outputId": "904110c5-7910-426b-9e5d-0895e6ae3422"
      },
      "execution_count": null,
      "outputs": [
        {
          "output_type": "stream",
          "name": "stdout",
          "text": [
            "1\n",
            "2\n",
            "3\n",
            "Terminó el While\n"
          ]
        }
      ]
    },
    {
      "cell_type": "code",
      "source": [
        "Respuesta= int(input('Cuántas lunas tiene Marte?'))\n",
        "\n",
        "while Respuesta != 2:\n",
        "    Respuesta=int(input(\"Te equivocaste, volvé a intentarlo\"))\n",
        "\n",
        "print('Acertaste!')"
      ],
      "metadata": {
        "id": "JgLK15qt7nda"
      },
      "execution_count": null,
      "outputs": []
    },
    {
      "cell_type": "markdown",
      "source": [
        "# Funciones"
      ],
      "metadata": {
        "id": "snkirzpS7r0L"
      }
    },
    {
      "cell_type": "code",
      "source": [
        "def suma_num(num1,num2):  # Función Suma\n",
        "    return num1+num2\n",
        "    \n",
        "suma_num(1,2) #aplicamos la función creada"
      ],
      "metadata": {
        "colab": {
          "base_uri": "https://localhost:8080/"
        },
        "id": "Uepn-vRB7pas",
        "outputId": "13f00c2f-de46-44e9-f757-afe5274f6a6e"
      },
      "execution_count": null,
      "outputs": [
        {
          "output_type": "execute_result",
          "data": {
            "text/plain": [
              "3"
            ]
          },
          "metadata": {},
          "execution_count": 29
        }
      ]
    },
    {
      "cell_type": "code",
      "source": [
        "def cuadrado(numero):    # Función Cuadrado de un Número\n",
        "  return numero ** 2\n",
        "\n",
        "cuadrado(4)"
      ],
      "metadata": {
        "colab": {
          "base_uri": "https://localhost:8080/"
        },
        "id": "s_WYtyQM7vU6",
        "outputId": "a4747e18-0472-4bf8-d7e0-17e3ff640d9c"
      },
      "execution_count": null,
      "outputs": [
        {
          "output_type": "execute_result",
          "data": {
            "text/plain": [
              "16"
            ]
          },
          "metadata": {},
          "execution_count": 30
        }
      ]
    },
    {
      "cell_type": "code",
      "source": [
        "def area_rectangulo(largo=2, ancho=3):   # Función área de un rectángulo\n",
        "     return largo * ancho\n",
        "\n",
        "area_rectangulo(5,4)"
      ],
      "metadata": {
        "colab": {
          "base_uri": "https://localhost:8080/"
        },
        "id": "k63UlGYP7wwC",
        "outputId": "5757cedd-48b7-44ca-90f0-894dde699951"
      },
      "execution_count": null,
      "outputs": [
        {
          "output_type": "execute_result",
          "data": {
            "text/plain": [
              "20"
            ]
          },
          "metadata": {},
          "execution_count": 31
        }
      ]
    },
    {
      "cell_type": "code",
      "source": [
        "def promedio(n1,n2,n3):                  # Función promedio de tres notas \n",
        "    media_aritmetica = (n1+n2+n3)/3\n",
        "\n",
        "    return media_aritmetica\n",
        "\n",
        "promedio(1,1,1)"
      ],
      "metadata": {
        "colab": {
          "base_uri": "https://localhost:8080/"
        },
        "id": "62TWecGI7ykI",
        "outputId": "529acac2-2c44-4995-9ffb-9695447339f1"
      },
      "execution_count": null,
      "outputs": [
        {
          "output_type": "execute_result",
          "data": {
            "text/plain": [
              "1.0"
            ]
          },
          "metadata": {},
          "execution_count": 32
        }
      ]
    },
    {
      "cell_type": "code",
      "source": [
        "def factorial(n):                        # Función factorial (por recursividad)\n",
        "    if n == 0:\n",
        "       return 1\n",
        "    else:\n",
        "       return n * factorial(n - 1)\n",
        "\n",
        "print(factorial(5))"
      ],
      "metadata": {
        "colab": {
          "base_uri": "https://localhost:8080/"
        },
        "id": "R4wOtb6073mC",
        "outputId": "f6303963-694c-462f-a294-3849a493b656"
      },
      "execution_count": null,
      "outputs": [
        {
          "output_type": "stream",
          "name": "stdout",
          "text": [
            "120\n"
          ]
        }
      ]
    },
    {
      "cell_type": "code",
      "source": [
        "def calcular_IMC(peso,altura):\n",
        "\n",
        "  # Colocamos la altura en centimetros\n",
        "  # Colocamos el peso en kg\n",
        "\n",
        "  BMI = peso / (altura/100)**2\n",
        " \n",
        "  if BMI <= 18.4:\n",
        "       print(\"Estás bajo de peso\")\n",
        "  elif BMI <= 24.9:\n",
        "       print(\"Estás saludable\")\n",
        "  elif BMI <= 29.9:\n",
        "       print(\"Estás excedido de peso\")\n",
        "  elif BMI <= 34.9:\n",
        "       print(\"Estás severamente excedido de peso\")\n",
        "  elif BMI <= 39.9:\n",
        "       print(\"Estás obeso\")\n",
        "  else:\n",
        "       print(\"Estás severamente obeso\")\n",
        "\n",
        "  return BMI"
      ],
      "metadata": {
        "id": "F_Ox2WHm76ai"
      },
      "execution_count": null,
      "outputs": []
    },
    {
      "cell_type": "code",
      "source": [
        "calcular_IMC(90,175)"
      ],
      "metadata": {
        "colab": {
          "base_uri": "https://localhost:8080/"
        },
        "id": "ltydefCR7-me",
        "outputId": "9ce77304-46e2-4226-8fc1-2a09d1499f55"
      },
      "execution_count": null,
      "outputs": [
        {
          "output_type": "stream",
          "name": "stdout",
          "text": [
            "Estás excedido de peso\n"
          ]
        },
        {
          "output_type": "execute_result",
          "data": {
            "text/plain": [
              "29.387755102040817"
            ]
          },
          "metadata": {},
          "execution_count": 36
        }
      ]
    },
    {
      "cell_type": "markdown",
      "source": [
        "# Desafíos:"
      ],
      "metadata": {
        "id": "qgKyoBpd8Hf8"
      }
    },
    {
      "cell_type": "markdown",
      "source": [
        "- Definir una función max() que tome como argumento dos numeros y devuelva el mayor de ellos"
      ],
      "metadata": {
        "id": "zkI2Lr0f8Hn5"
      }
    },
    {
      "cell_type": "markdown",
      "source": [
        "- Definir una función max_de_tres(), que tome tres números como argumentos y devuelva el mayor de ellos"
      ],
      "metadata": {
        "id": "n3PcaxxE8Utk"
      }
    },
    {
      "cell_type": "markdown",
      "source": [
        "- Escribir una función que tome un carácter y devuelva True si es una vocal, de lo contrario devuelve False"
      ],
      "metadata": {
        "id": "2CqtIVAb8jmx"
      }
    },
    {
      "cell_type": "markdown",
      "source": [
        "- Escribir una función sum() y una función multip() que sumen y multipliquen respectivamente todos los números de una lista. Por ejemplo: sum([1,2,3,4]) debería devolver 10 y multip([1,2,3,4]) debería devolver 24."
      ],
      "metadata": {
        "id": "MIYHGpo78ohY"
      }
    },
    {
      "cell_type": "markdown",
      "source": [
        "- Escribir los 6 primeros términos de la secuencia de Fibonacci (arranca en 0). Tu output debería ser: 0 1 1 2 3 5"
      ],
      "metadata": {
        "id": "etGZdadd8t4V"
      }
    },
    {
      "cell_type": "markdown",
      "source": [
        "- Implementar un programa que muestre la siguiente secuencia:\n",
        "\n",
        "     1, 2, 3, 4, 5, 4, 3, 2, 1, 0\n",
        "\n",
        "    *Utilizar 1 solo while, 1 solo if y 1 solo else*"
      ],
      "metadata": {
        "id": "YYSGtxY88uQo"
      }
    }
  ]
}